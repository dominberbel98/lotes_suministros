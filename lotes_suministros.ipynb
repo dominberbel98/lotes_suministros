{
  "nbformat": 4,
  "nbformat_minor": 0,
  "metadata": {
    "colab": {
      "provenance": []
    },
    "kernelspec": {
      "name": "python3",
      "display_name": "Python 3"
    },
    "language_info": {
      "name": "python"
    }
  },
  "cells": [
    {
      "cell_type": "code",
      "execution_count": null,
      "metadata": {
        "id": "rESmKtk__H9A"
      },
      "outputs": [],
      "source": [
        "import pandas as pd\n",
        "from google.colab import files\n",
        "\n",
        "# Paso 1: Subir el archivo Excel\n",
        "print(\"Sube el archivo Excel:\")\n",
        "uploaded = files.upload()\n",
        "archivo = list(uploaded.keys())[0]\n",
        "\n",
        "# Paso 2: Leer el Excel desde la fila 10 visible (índice 9), encabezado real en la 11 (índice 10)\n",
        "df = pd.read_excel(archivo, skiprows=8, header=1)\n",
        "\n",
        "# Paso 3: Limpiar nombres de columnas\n",
        "df.columns = df.columns.str.replace('\\n', ' ').str.strip()\n",
        "\n",
        "# Paso 4: Renombrar columnas clave para facilitar el trabajo\n",
        "df = df.rename(columns={\n",
        "    'Nombre Name': 'Nombre',\n",
        "    'Lote Batch': 'Lote',\n",
        "    'F.Sacrificio Slaughter D.': 'F_Sacrificio',\n",
        "    'D.prod/desp Prod/Debond': 'D_Prod_Desp',\n",
        "    'F.Caducidad Expiry Date': 'F_Caducidad'\n",
        "})\n",
        "\n",
        "# Paso 5: Limpiar y estandarizar la columna \"Nombre\"\n",
        "df['Nombre'] = df['Nombre'].astype(str).str.strip().str.upper()\n",
        "\n",
        "# Eliminar filas sin nombre válido\n",
        "df = df[~df['Nombre'].isin(['', 'NAN', 'nan', 'NaN']) & df['Nombre'].notna()]\n",
        "\n",
        "# Asegurar que los lotes se traten como texto y eliminar \".0\" si Excel los guardó como flotantes\n",
        "df['Lote'] = df['Lote'].astype(str).str.replace('.0$', '', regex=True)\n",
        "\n",
        "# Paso 6: Convertir columnas de fecha al formato DD/MM/AAAA\n",
        "for col in ['F_Sacrificio', 'D_Prod_Desp', 'F_Caducidad']:\n",
        "    df[col] = pd.to_datetime(df[col], errors='coerce').dt.strftime('%d/%m/%Y')\n",
        "\n",
        "# Paso 7: Agrupar por \"Nombre\" y obtener valores únicos con coma final\n",
        "resultado = {}\n",
        "\n",
        "for nombre, grupo in df.groupby(\"Nombre\"):\n",
        "    lotes = grupo[\"Lote\"].dropna().unique()\n",
        "    sacrificios = grupo[\"F_Sacrificio\"].dropna().unique()\n",
        "    despieces = grupo[\"D_Prod_Desp\"].dropna().unique()\n",
        "    caducidades = grupo[\"F_Caducidad\"].dropna().unique()\n",
        "\n",
        "    resultado[nombre] = {\n",
        "        \"Lote(s)\": ', '.join(lotes) + ',' if len(lotes) else '',\n",
        "        \"F.Sacrificio\": ', '.join(sacrificios) + ',' if len(sacrificios) else '',\n",
        "        \"D.prod/desp\": ', '.join(despieces) + ',' if len(despieces) else '',\n",
        "        \"F.caducidad\": ', '.join(caducidades) + ',' if len(caducidades) else ''\n",
        "    }\n",
        "\n",
        "# Paso 8: Mostrar resumen por consola\n",
        "for nombre, datos in resultado.items():\n",
        "    print(f\"\\nNombre: {nombre}\")\n",
        "    print(f\"Lote(s): {datos['Lote(s)']}\")\n",
        "    print(f\"F.Sacrificio: {datos['F.Sacrificio']}\")\n",
        "    print(f\"D.prod/desp: {datos['D.prod/desp']}\")\n",
        "    print(f\"F.caducidad: {datos['F.caducidad']}\")\n",
        "\n",
        "# Paso 9: Convertir el resultado a DataFrame\n",
        "df_resultado = pd.DataFrame.from_dict(resultado, orient='index').reset_index()\n",
        "df_resultado = df_resultado.rename(columns={\"index\": \"Nombre\"})\n",
        "\n",
        "# Paso 10: Exportar el resumen a un archivo Excel\n",
        "df_resultado.to_excel(\"resumen_por_nombre.xlsx\", index=False)\n",
        "files.download(\"resumen_por_nombre.xlsx\")"
      ]
    }
  ]
}